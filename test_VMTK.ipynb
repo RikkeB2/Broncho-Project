{
 "cells": [
  {
   "cell_type": "code",
   "execution_count": 1,
   "metadata": {},
   "outputs": [
    {
     "name": "stdout",
     "output_type": "stream",
     "text": [
      "Cleaning surface.\n",
      "Triangulating surface.\n",
      "Capping surface.\n",
      "Quit renderer\n",
      "Please input list of inlet profile ids: Please input list of outlet profile ids (leave empty for all available profiles): Computing centerlines.\n",
      "Computing centerlines...Centerline extraction complete. Output saved as 'output_centerlines.vtp'.\n"
     ]
    }
   ],
   "source": [
    "import vtk\n",
    "import itk\n",
    "import vmtk.vmtkscripts as vmtkscripts\n",
    "\n",
    "# Load the input surface\n",
    "surface_reader = vtk.vtkXMLPolyDataReader()\n",
    "surface_reader.SetFileName('Human.vtp')\n",
    "surface_reader.Update()\n",
    "input_surface = surface_reader.GetOutput()\n",
    "\n",
    "# Initialize the centerline extraction\n",
    "centerline_filter = vmtkscripts.vmtkCenterlines()\n",
    "centerline_filter.Surface = input_surface\n",
    "centerline_filter.SeedSelectorName = 'openprofiles'\n",
    "centerline_filter.Execute()\n",
    "\n",
    "# Get the output centerlines\n",
    "centerlines = centerline_filter.Centerlines\n",
    "\n",
    "# Write the centerlines to a file\n",
    "centerline_writer = vtk.vtkXMLPolyDataWriter()\n",
    "centerline_writer.SetFileName('output_centerlines.vtp')\n",
    "centerline_writer.SetInputData(centerlines)\n",
    "centerline_writer.Write()\n",
    "\n",
    "print(\"Centerline extraction complete. Output saved as 'output_centerlines.vtp'.\")"
   ]
  },
  {
   "cell_type": "code",
   "execution_count": 4,
   "metadata": {},
   "outputs": [],
   "source": [
    "# --- Visualization Part ---\n",
    "\n",
    "# Create a mapper for the original surface\n",
    "surface_mapper = vtk.vtkPolyDataMapper()\n",
    "surface_mapper.SetInputData(input_surface)\n",
    "\n",
    "surface_actor = vtk.vtkActor()\n",
    "surface_actor.SetMapper(surface_mapper)\n",
    "surface_actor.GetProperty().SetOpacity(0.3)  # Make the surface semi-transparent\n",
    "\n",
    "# Create a mapper for the centerlines\n",
    "centerline_mapper = vtk.vtkPolyDataMapper()\n",
    "centerline_mapper.SetInputData(centerlines)\n",
    "\n",
    "centerline_actor = vtk.vtkActor()\n",
    "centerline_actor.SetMapper(centerline_mapper)\n",
    "centerline_actor.GetProperty().SetColor(1, 0, 0)  # Red centerlines\n",
    "centerline_actor.GetProperty().SetLineWidth(3)\n",
    "\n",
    "# Create a renderer and add the actors\n",
    "renderer = vtk.vtkRenderer()\n",
    "renderer.AddActor(surface_actor)\n",
    "renderer.AddActor(centerline_actor)\n",
    "renderer.SetBackground(0.1, 0.1, 0.1)  # Dark background\n",
    "\n",
    "# Create a render window\n",
    "render_window = vtk.vtkRenderWindow()\n",
    "render_window.AddRenderer(renderer)\n",
    "\n",
    "# Create an interactor\n",
    "interactor = vtk.vtkRenderWindowInteractor()\n",
    "interactor.SetRenderWindow(render_window)\n",
    "\n",
    "# Start visualization\n",
    "render_window.Render()\n",
    "interactor.Start()"
   ]
  }
 ],
 "metadata": {
  "kernelspec": {
   "display_name": "Python 3",
   "language": "python",
   "name": "python3"
  },
  "language_info": {
   "codemirror_mode": {
    "name": "ipython",
    "version": 3
   },
   "file_extension": ".py",
   "mimetype": "text/x-python",
   "name": "python",
   "nbconvert_exporter": "python",
   "pygments_lexer": "ipython3",
   "version": "3.8.20"
  }
 },
 "nbformat": 4,
 "nbformat_minor": 2
}
