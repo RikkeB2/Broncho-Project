{
 "cells": [
  {
   "cell_type": "code",
   "execution_count": null,
   "metadata": {},
   "outputs": [
    {
     "name": "stdout",
     "output_type": "stream",
     "text": [
      "Cleaning surface.\n",
      "Triangulating surface.\n",
      "Capping surface.\n",
      "Please position the mouse and press space to add source points, 'u' to undo\n"
     ]
    }
   ],
   "source": [
    "import vtk\n",
    "import vmtk\n",
    "from vmtk import vmtkscripts\n",
    "from vmtk import vmtkcenterlines\n",
    "\n",
    "def find_equidistant_points(input_mesh_file, output_centerline_file, target_distance):\n",
    "    \"\"\"\n",
    "    Finds equidistant points along the centerline of a tubular mesh using a more robust VMTK workflow.\n",
    "    \"\"\"\n",
    "\n",
    "    # 1. Read the mesh\n",
    "    if input_mesh_file.lower().endswith(\".vtp\"):\n",
    "        reader = vtk.vtkXMLPolyDataReader()\n",
    "    elif input_mesh_file.lower().endswith(\".ply\"):\n",
    "        reader = vtk.vtkPLYReader()\n",
    "    else:\n",
    "        raise ValueError(\"Unsupported file format. Only .vtp and .ply files are supported.\")\n",
    "    \n",
    "    reader.SetFileName(input_mesh_file)\n",
    "    reader.Update()\n",
    "    mesh = reader.GetOutput()\n",
    "\n",
    "    # 2. Extract centerline using a more robust workflow\n",
    "    centerlines = vmtkcenterlines.vmtkCenterlines()\n",
    "    centerlines.Surface = mesh\n",
    "    centerlines.SeedIds = [0]  # Specify a seed point (adjust as needed)\n",
    "    centerlines.Execute()\n",
    "\n",
    "    # Get the output centerline\n",
    "    centerline = centerlines.Centerlines\n",
    "\n",
    "    # 3. Resample centerline\n",
    "    resampler = vmtkscripts.vmtkCenterlineResampling()\n",
    "    resampler.Centerlines = centerline\n",
    "    resampler.TargetDistance = target_distance\n",
    "    resampler.Execute()\n",
    "    resampled_centerline = resampler.Centerlines\n",
    "\n",
    "    # 4. Write Resampled Centerline\n",
    "    writer = vtk.vtkXMLPolyDataWriter()\n",
    "    writer.SetFileName(output_centerline_file)\n",
    "    writer.SetInputData(resampled_centerline)\n",
    "    writer.Write()\n",
    "\n",
    "    # 5. Visualize (Optional)\n",
    "    mesh_mapper = vtk.vtkPolyDataMapper()\n",
    "    mesh_mapper.SetInputData(mesh)\n",
    "    mesh_actor = vtk.vtkActor()\n",
    "    mesh_actor.SetMapper(mesh_mapper)\n",
    "    mesh_actor.GetProperty().SetOpacity(0.5)\n",
    "\n",
    "    resampled_mapper = vtk.vtkPolyDataMapper()\n",
    "    resampled_mapper.SetInputData(resampled_centerline)\n",
    "    resampled_actor = vtk.vtkActor()\n",
    "    resampled_actor.SetMapper(resampled_mapper)\n",
    "    resampled_actor.GetProperty().SetColor(1, 0, 0)\n",
    "\n",
    "    renderer = vtk.vtkRenderer()\n",
    "    render_window = vtk.vtkRenderWindow()\n",
    "    render_window.AddRenderer(renderer)\n",
    "\n",
    "    interactor = vtk.vtkRenderWindowInteractor()\n",
    "    interactor.SetRenderWindow(render_window)\n",
    "\n",
    "    renderer.AddActor(mesh_actor)\n",
    "    renderer.AddActor(resampled_actor)\n",
    "    renderer.SetBackground(0.1, 0.2, 0.4)\n",
    "\n",
    "    render_window.Render()\n",
    "    interactor.Start()\n",
    "\n",
    "if __name__ == \"__main__\":\n",
    "    input_mesh_file = r\"C:\\Users\\Lenovo\\OneDrive - Syddansk Universitet\\Dokumenter\\GitHub\\Broncho-Project\\code\\pointclouds\\meshes\\accumulated_point_cloud.ply\"  # Change to .ply file if needed\n",
    "    output_centerline_file = \"resampled_centerline.vtp\"\n",
    "    target_distance = 1.0\n",
    "    find_equidistant_points(input_mesh_file, output_centerline_file, target_distance)"
   ]
  },
  {
   "cell_type": "code",
   "execution_count": null,
   "metadata": {},
   "outputs": [],
   "source": []
  }
 ],
 "metadata": {
  "kernelspec": {
   "display_name": "Python 3",
   "language": "python",
   "name": "python3"
  },
  "language_info": {
   "codemirror_mode": {
    "name": "ipython",
    "version": 3
   },
   "file_extension": ".py",
   "mimetype": "text/x-python",
   "name": "python",
   "nbconvert_exporter": "python",
   "pygments_lexer": "ipython3",
   "version": "3.8.20"
  }
 },
 "nbformat": 4,
 "nbformat_minor": 2
}
